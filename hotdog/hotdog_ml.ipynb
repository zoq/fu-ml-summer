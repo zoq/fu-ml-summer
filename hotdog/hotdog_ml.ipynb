{
  "nbformat": 4,
  "nbformat_minor": 0,
  "metadata": {
    "colab": {
      "name": "hotdog_ml.ipynb",
      "version": "0.3.2",
      "provenance": [],
      "include_colab_link": true
    },
    "kernelspec": {
      "name": "python3",
      "display_name": "Python 3"
    },
    "accelerator": "GPU"
  },
  "cells": [
    {
      "cell_type": "markdown",
      "metadata": {
        "id": "view-in-github",
        "colab_type": "text"
      },
      "source": [
        "<a href=\"https://colab.research.google.com/gist/zoq/59781383aac4bad586757492256ffb6f/hotdog_ml.ipynb\" target=\"_parent\"><img src=\"https://colab.research.google.com/assets/colab-badge.svg\" alt=\"Open In Colab\"/></a>"
      ]
    },
    {
      "cell_type": "code",
      "metadata": {
        "id": "lH6eKqx-2j9T",
        "colab_type": "code",
        "colab": {}
      },
      "source": [
        "#Clean the current env\n",
        "#import os, signal\n",
        "#os.kill(os.getpid(), signal.SIGKILL)\n",
        "\n",
        "#Create input folder and download dataset\n",
        "!rm -rf input\n",
        "!mkdir -p input\n",
        "!wget data.kurg.org/hotdog.zip -O input/data.zip\n",
        "!unzip input/data.zip -d input/"
      ],
      "execution_count": 0,
      "outputs": []
    },
    {
      "cell_type": "code",
      "metadata": {
        "id": "SU6Wy2Dc2yj7",
        "colab_type": "code",
        "colab": {}
      },
      "source": [
        "#Import some packages to use\n",
        "import cv2\n",
        "import numpy as np\n",
        "import pandas as pd\n",
        "\n",
        "import matplotlib.pyplot as plt\n",
        "%matplotlib inline \n",
        "\n",
        "#To see our directory\n",
        "import os\n",
        "import random\n",
        "import gc   #Gabage collector for cleaning deleted data from memory"
      ],
      "execution_count": 0,
      "outputs": []
    },
    {
      "cell_type": "code",
      "metadata": {
        "id": "f7ypFn4t22_h",
        "colab_type": "code",
        "colab": {}
      },
      "source": [
        "train_dir = 'input/train'\n",
        "test_dir = 'input/test'\n",
        "\n",
        "train_nothotdog = ['input/train/{}'.format(i) for i in os.listdir(train_dir) if '-nothotdog.jpg' in i]  #get nothotdog images\n",
        "train_hotdog = ['input/train/{}'.format(i) for i in os.listdir(train_dir) if '-hotdog.jpg' in i]  #get hotdog images\n",
        "\n",
        "test_imgs = ['input/test/{}'.format(i) for i in os.listdir(test_dir)] #get test images\n",
        "\n",
        "train_imgs = train_nothotdog[:2000] + train_hotdog[:2000]  #slice the dataset and use 2000 in each class\n",
        "random.shuffle(train_imgs)  # shuffle it randomly\n",
        "\n",
        "#Clear list that are useless\n",
        "del train_nothotdog\n",
        "del train_hotdog\n",
        "gc.collect()   #collect garbage to save memory"
      ],
      "execution_count": 0,
      "outputs": []
    },
    {
      "cell_type": "code",
      "metadata": {
        "id": "7sXpAeVG3e6c",
        "colab_type": "code",
        "colab": {}
      },
      "source": [
        "#Lets declare our image dimensions\n",
        "#we are using coloured images. \n",
        "nrows = 150\n",
        "ncolumns = 150\n",
        "channels = 3  #change to 1 if you want to use grayscale image\n",
        "\n",
        "\n",
        "#A function to read and process the images to an acceptable format for our model\n",
        "def read_and_process_image(list_of_images):\n",
        "    \"\"\"\n",
        "    Returns two arrays: \n",
        "        X is an array of resized images\n",
        "        y is an array of labels\n",
        "    \"\"\"\n",
        "    X = [] # images\n",
        "    y = [] # labels\n",
        "    \n",
        "    for image in list_of_images:\n",
        "        img = cv2.resize(cv2.imread(image, cv2.IMREAD_COLOR), (nrows,ncolumns), interpolation=cv2.INTER_CUBIC)\n",
        "        img = img[...,::-1]\n",
        "        X.append(img)  #Read the image\n",
        "        #get the labels\n",
        "        if '-nothotdog.jpg' in image:\n",
        "            y.append(1)\n",
        "        elif '-hotdog.jpg' in image:\n",
        "            y.append(0)\n",
        "    \n",
        "    return X, y"
      ],
      "execution_count": 0,
      "outputs": []
    },
    {
      "cell_type": "code",
      "metadata": {
        "id": "Z_1_p8ZU3iyq",
        "colab_type": "code",
        "colab": {}
      },
      "source": [
        "#get the train and label data\n",
        "X, y = read_and_process_image(train_imgs)"
      ],
      "execution_count": 0,
      "outputs": []
    },
    {
      "cell_type": "code",
      "metadata": {
        "id": "438c2gGv3k1q",
        "colab_type": "code",
        "colab": {}
      },
      "source": [
        "#Lets view some of the pics\n",
        "plt.figure(figsize=(20,10))\n",
        "columns = 5\n",
        "for i in range(columns):\n",
        "    plt.subplot(5 / columns + 1, columns, i + 1)\n",
        "    plt.imshow(X[i])"
      ],
      "execution_count": 0,
      "outputs": []
    },
    {
      "cell_type": "code",
      "metadata": {
        "id": "des9D5XT3nTK",
        "colab_type": "code",
        "colab": {}
      },
      "source": [
        "import seaborn as sns\n",
        "#del train_imgs\n",
        "gc.collect()\n",
        "\n",
        "#Convert list to numpy array\n",
        "X = np.array(X)\n",
        "y = np.array(y)\n",
        "\n",
        "#Lets plot the label to be sure we just have two class\n",
        "sns.countplot(y)\n",
        "plt.title('Labels for Hotdogs and NotHotdogs')"
      ],
      "execution_count": 0,
      "outputs": []
    },
    {
      "cell_type": "code",
      "metadata": {
        "id": "0cjT-Z6x3tYc",
        "colab_type": "code",
        "colab": {}
      },
      "source": [
        "print(\"Shape of train images is:\", X.shape)\n",
        "print(\"Shape of labels is:\", y.shape)"
      ],
      "execution_count": 0,
      "outputs": []
    },
    {
      "cell_type": "code",
      "metadata": {
        "id": "zANPiGHM4McZ",
        "colab_type": "code",
        "colab": {}
      },
      "source": [
        "#Lets split the data into train and test set\n",
        "from sklearn.model_selection import train_test_split\n",
        "X_train, X_val, y_train, y_val = train_test_split(X, y, test_size=0.20, random_state=2)\n",
        "\n",
        "print(\"Shape of train images is:\", X_train.shape)\n",
        "print(\"Shape of validation images is:\", X_val.shape)\n",
        "print(\"Shape of labels is:\", y_train.shape)\n",
        "print(\"Shape of labels is:\", y_val.shape)"
      ],
      "execution_count": 0,
      "outputs": []
    },
    {
      "cell_type": "code",
      "metadata": {
        "id": "u7mTDPwo4PVn",
        "colab_type": "code",
        "colab": {}
      },
      "source": [
        "#clear memory\n",
        "del X\n",
        "del y\n",
        "gc.collect()\n",
        "\n",
        "#get the length of the train and validation data\n",
        "ntrain = len(X_train)\n",
        "nval = len(X_val)\n",
        "\n",
        "#We will use a batch size of 32. Note: batch size should be a factor of 2.***4,8,16,32,64...***\n",
        "batch_size = 32"
      ],
      "execution_count": 0,
      "outputs": []
    },
    {
      "cell_type": "code",
      "metadata": {
        "id": "iI42LITC4SPL",
        "colab_type": "code",
        "colab": {}
      },
      "source": [
        "from keras import layers\n",
        "from keras import models\n",
        "from keras import optimizers\n",
        "from keras.preprocessing.image import ImageDataGenerator\n",
        "from keras.preprocessing.image import img_to_array, load_img\n",
        "\n",
        "#Layer (https://keras.io/layers/pooling/)\n",
        "#layers.Conv2D\n",
        "#layers.MaxPooling2D\n",
        "#layers.Dropout\n",
        "#layers.Flatten\n",
        "#layers.Dense\n",
        "\n",
        "#Activation functions (https://keras.io/activations/)\n",
        "\n",
        "model = models.Sequential()\n",
        "\n",
        "model.add(layers.Conv2D(10, (3, 3), activation='sigmoid',input_shape=(150, 150, 3)))\n",
        "model.add(layers.MaxPooling2D((2, 2)))\n",
        "\n",
        "model.add(layers.Flatten())\n",
        "model.add(layers.Dropout(0.9))  #Dropout for regularization\n",
        "model.add(layers.Dense(10, activation='sigmoid'))\n",
        "model.add(layers.Dense(1, activation='sigmoid'))  #Sigmoid function at the end because we have just two classes"
      ],
      "execution_count": 0,
      "outputs": []
    },
    {
      "cell_type": "code",
      "metadata": {
        "id": "zH-OsJiM4UdB",
        "colab_type": "code",
        "colab": {}
      },
      "source": [
        "#Lets see our model\n",
        "model.summary()"
      ],
      "execution_count": 0,
      "outputs": []
    },
    {
      "cell_type": "code",
      "metadata": {
        "id": "aNvRGjOF4XS3",
        "colab_type": "code",
        "colab": {}
      },
      "source": [
        "#We'll use the RMSprop optimizer with a learning rate of 0.0001\n",
        "#We'll use binary_crossentropy loss because its a binary classification\n",
        "model.compile(loss='binary_crossentropy', optimizer=optimizers.RMSprop(lr=1e-4), metrics=['acc'])"
      ],
      "execution_count": 0,
      "outputs": []
    },
    {
      "cell_type": "code",
      "metadata": {
        "id": "jMcVDZv_4Zdp",
        "colab_type": "code",
        "colab": {}
      },
      "source": [
        "#Lets create the augmentation configuration\n",
        "#This helps prevent overfitting, since we are using a small dataset\n",
        "train_datagen = ImageDataGenerator(rescale=1./255,   #Scale the image between 0 and 1\n",
        "                                    rotation_range=40,\n",
        "                                    width_shift_range=0.2,\n",
        "                                    height_shift_range=0.2,\n",
        "                                    shear_range=0.2,\n",
        "                                    zoom_range=0.2,\n",
        "                                    horizontal_flip=True,)\n",
        "\n",
        "val_datagen = ImageDataGenerator(rescale=1./255)  #We do not augment validation data. we only perform rescale"
      ],
      "execution_count": 0,
      "outputs": []
    },
    {
      "cell_type": "code",
      "metadata": {
        "id": "zcmEtKH54bwF",
        "colab_type": "code",
        "colab": {}
      },
      "source": [
        "#Create the image generators\n",
        "train_generator = train_datagen.flow(X_train, y_train, batch_size=batch_size)\n",
        "val_generator = val_datagen.flow(X_val, y_val, batch_size=batch_size)"
      ],
      "execution_count": 0,
      "outputs": []
    },
    {
      "cell_type": "code",
      "metadata": {
        "id": "GoYyU4i64dxs",
        "colab_type": "code",
        "colab": {}
      },
      "source": [
        "#The training part\n",
        "#We train for 64 epochs with about 100 steps per epoch\n",
        "history = model.fit_generator(train_generator,\n",
        "                              steps_per_epoch=ntrain // batch_size,\n",
        "                              epochs=10,\n",
        "                              validation_data=val_generator,\n",
        "                              validation_steps=nval // batch_size)"
      ],
      "execution_count": 0,
      "outputs": []
    },
    {
      "cell_type": "code",
      "metadata": {
        "id": "KihNb3T54fj1",
        "colab_type": "code",
        "colab": {}
      },
      "source": [
        "#lets plot the train and val curve\n",
        "#get the details form the history object\n",
        "acc = history.history['acc']\n",
        "val_acc = history.history['val_acc']\n",
        "loss = history.history['loss']\n",
        "val_loss = history.history['val_loss']\n",
        "\n",
        "epochs = range(1, len(acc) + 1)\n",
        "\n",
        "#Train and validation accuracy\n",
        "plt.plot(epochs, acc, 'b', label='Training accurarcy')\n",
        "plt.plot(epochs, val_acc, 'r', label='Validation accurarcy')\n",
        "plt.title('Training and Validation accurarcy')\n",
        "plt.legend()\n",
        "\n",
        "plt.figure()\n",
        "#Train and validation loss\n",
        "plt.plot(epochs, loss, 'b', label='Training loss')\n",
        "plt.plot(epochs, val_loss, 'r', label='Validation loss')\n",
        "plt.title('Training and Validation loss')\n",
        "plt.legend()\n",
        "\n",
        "plt.show()"
      ],
      "execution_count": 0,
      "outputs": []
    },
    {
      "cell_type": "code",
      "metadata": {
        "id": "bspMTeUQ9d5a",
        "colab_type": "code",
        "colab": {}
      },
      "source": [
        "#Now lets predict on the first 10 Images of the test set\n",
        "X_test, y_test = read_and_process_image(test_imgs[80:90]) #Y_test in this case will be empty.\n",
        "x = np.array(X_test)\n",
        "test_datagen = ImageDataGenerator(rescale=1./255)"
      ],
      "execution_count": 0,
      "outputs": []
    },
    {
      "cell_type": "code",
      "metadata": {
        "id": "ayWg994S9iQj",
        "colab_type": "code",
        "colab": {}
      },
      "source": [
        "i = 0\n",
        "text_labels = []\n",
        "plt.figure(figsize=(30,20))\n",
        "for batch in test_datagen.flow(x, batch_size=1):\n",
        "    pred = model.predict(batch)\n",
        "    if pred > 0.5:\n",
        "        text_labels.append('Hotdog')\n",
        "    else:\n",
        "        text_labels.append('NotHotdog')\n",
        "    plt.subplot(5 / columns + 1, columns, i + 1)\n",
        "    plt.title('This is a ' + text_labels[i])\n",
        "    imgplot = plt.imshow(batch[0])\n",
        "    i += 1\n",
        "    if i % 10 == 0:\n",
        "        break\n",
        "plt.show()"
      ],
      "execution_count": 0,
      "outputs": []
    },
    {
      "cell_type": "code",
      "metadata": {
        "id": "qIizujSP9kbD",
        "colab_type": "code",
        "colab": {}
      },
      "source": [
        "model.save('model_hotdog_v1.h5')"
      ],
      "execution_count": 0,
      "outputs": []
    },
    {
      "cell_type": "code",
      "metadata": {
        "id": "maaKBnkq-JMu",
        "colab_type": "code",
        "colab": {}
      },
      "source": [
        ""
      ],
      "execution_count": 0,
      "outputs": []
    }
  ]
}